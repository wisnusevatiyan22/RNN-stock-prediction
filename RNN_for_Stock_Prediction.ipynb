{
  "cells": [
    {
      "cell_type": "code",
      "execution_count": null,
      "id": "45a9050a",
      "metadata": {
        "id": "45a9050a"
      },
      "outputs": [],
      "source": [
        "#Import function\n",
        "import numpy as np # linear algebra\n",
        "import pandas as pd # data processing, CSV file I/O (e.g. pd.read_csv)\n",
        "import seaborn as sns\n",
        "import matplotlib.pyplot as plt\n",
        "\n",
        "# Ignore warnings\n",
        "import warnings\n",
        "warnings.filterwarnings('ignore')\n",
        "\n",
        "import os\n",
        "for dirname, _, filenames in os.walk('/kaggle/input'):\n",
        "    for filename in filenames:\n",
        "        print(os.path.join(dirname, filename))"
      ]
    },
    {
      "cell_type": "code",
      "execution_count": null,
      "id": "d692457d",
      "metadata": {
        "id": "d692457d"
      },
      "outputs": [],
      "source": [
        "data = pd.read_csv(\"D:/Data STATBIS ITS/Sem 7/Machine learning/EAS/BRMS.JK.csv\")"
      ]
    },
    {
      "cell_type": "code",
      "execution_count": null,
      "id": "3e9b8cbe",
      "metadata": {
        "id": "3e9b8cbe",
        "outputId": "5daa9eef-f712-40d7-f10a-523579c637d9"
      },
      "outputs": [
        {
          "data": {
            "text/html": [
              "<div>\n",
              "<style scoped>\n",
              "    .dataframe tbody tr th:only-of-type {\n",
              "        vertical-align: middle;\n",
              "    }\n",
              "\n",
              "    .dataframe tbody tr th {\n",
              "        vertical-align: top;\n",
              "    }\n",
              "\n",
              "    .dataframe thead th {\n",
              "        text-align: right;\n",
              "    }\n",
              "</style>\n",
              "<table border=\"1\" class=\"dataframe\">\n",
              "  <thead>\n",
              "    <tr style=\"text-align: right;\">\n",
              "      <th></th>\n",
              "      <th>Date</th>\n",
              "      <th>Open</th>\n",
              "      <th>High</th>\n",
              "      <th>Low</th>\n",
              "      <th>Close</th>\n",
              "      <th>Adj Close</th>\n",
              "      <th>Volume</th>\n",
              "    </tr>\n",
              "  </thead>\n",
              "  <tbody>\n",
              "    <tr>\n",
              "      <th>0</th>\n",
              "      <td>2019-01-01</td>\n",
              "      <td>50.0</td>\n",
              "      <td>50.0</td>\n",
              "      <td>50.0</td>\n",
              "      <td>50.0</td>\n",
              "      <td>50.0</td>\n",
              "      <td>0.0</td>\n",
              "    </tr>\n",
              "    <tr>\n",
              "      <th>1</th>\n",
              "      <td>2019-01-02</td>\n",
              "      <td>50.0</td>\n",
              "      <td>50.0</td>\n",
              "      <td>50.0</td>\n",
              "      <td>50.0</td>\n",
              "      <td>50.0</td>\n",
              "      <td>54500.0</td>\n",
              "    </tr>\n",
              "    <tr>\n",
              "      <th>2</th>\n",
              "      <td>2019-01-03</td>\n",
              "      <td>50.0</td>\n",
              "      <td>51.0</td>\n",
              "      <td>50.0</td>\n",
              "      <td>50.0</td>\n",
              "      <td>50.0</td>\n",
              "      <td>7592200.0</td>\n",
              "    </tr>\n",
              "    <tr>\n",
              "      <th>3</th>\n",
              "      <td>2019-01-04</td>\n",
              "      <td>50.0</td>\n",
              "      <td>51.0</td>\n",
              "      <td>50.0</td>\n",
              "      <td>50.0</td>\n",
              "      <td>50.0</td>\n",
              "      <td>14309400.0</td>\n",
              "    </tr>\n",
              "    <tr>\n",
              "      <th>4</th>\n",
              "      <td>2019-01-07</td>\n",
              "      <td>50.0</td>\n",
              "      <td>55.0</td>\n",
              "      <td>50.0</td>\n",
              "      <td>51.0</td>\n",
              "      <td>51.0</td>\n",
              "      <td>219248800.0</td>\n",
              "    </tr>\n",
              "  </tbody>\n",
              "</table>\n",
              "</div>"
            ],
            "text/plain": [
              "         Date  Open  High   Low  Close  Adj Close       Volume\n",
              "0  2019-01-01  50.0  50.0  50.0   50.0       50.0          0.0\n",
              "1  2019-01-02  50.0  50.0  50.0   50.0       50.0      54500.0\n",
              "2  2019-01-03  50.0  51.0  50.0   50.0       50.0    7592200.0\n",
              "3  2019-01-04  50.0  51.0  50.0   50.0       50.0   14309400.0\n",
              "4  2019-01-07  50.0  55.0  50.0   51.0       51.0  219248800.0"
            ]
          },
          "execution_count": 101,
          "metadata": {},
          "output_type": "execute_result"
        }
      ],
      "source": [
        "#Mari kita periksa beberapa contoh dari data kita\n",
        "data.head()"
      ]
    },
    {
      "cell_type": "code",
      "execution_count": null,
      "id": "162df90f",
      "metadata": {
        "id": "162df90f",
        "outputId": "e1ba0c2c-2762-4292-e65f-da760e1e3239"
      },
      "outputs": [
        {
          "name": "stdout",
          "output_type": "stream",
          "text": [
            "Data Shape --> (1212, 7)\n"
          ]
        }
      ],
      "source": [
        "print(\"Data Shape -->\", data.shape)"
      ]
    },
    {
      "cell_type": "code",
      "execution_count": null,
      "id": "81d83c21",
      "metadata": {
        "id": "81d83c21",
        "outputId": "dda95110-c4e7-4e87-949c-92ed2ba61bf1"
      },
      "outputs": [
        {
          "data": {
            "text/html": [
              "<div>\n",
              "<style scoped>\n",
              "    .dataframe tbody tr th:only-of-type {\n",
              "        vertical-align: middle;\n",
              "    }\n",
              "\n",
              "    .dataframe tbody tr th {\n",
              "        vertical-align: top;\n",
              "    }\n",
              "\n",
              "    .dataframe thead th {\n",
              "        text-align: right;\n",
              "    }\n",
              "</style>\n",
              "<table border=\"1\" class=\"dataframe\">\n",
              "  <thead>\n",
              "    <tr style=\"text-align: right;\">\n",
              "      <th></th>\n",
              "      <th>Open</th>\n",
              "      <th>High</th>\n",
              "      <th>Low</th>\n",
              "      <th>Close</th>\n",
              "      <th>Adj Close</th>\n",
              "      <th>Volume</th>\n",
              "    </tr>\n",
              "  </thead>\n",
              "  <tbody>\n",
              "    <tr>\n",
              "      <th>count</th>\n",
              "      <td>1211.000000</td>\n",
              "      <td>1211.000000</td>\n",
              "      <td>1211.000000</td>\n",
              "      <td>1211.000000</td>\n",
              "      <td>1211.000000</td>\n",
              "      <td>1.211000e+03</td>\n",
              "    </tr>\n",
              "    <tr>\n",
              "      <th>mean</th>\n",
              "      <td>110.997287</td>\n",
              "      <td>113.727905</td>\n",
              "      <td>108.338377</td>\n",
              "      <td>110.666886</td>\n",
              "      <td>110.666886</td>\n",
              "      <td>3.370007e+08</td>\n",
              "    </tr>\n",
              "    <tr>\n",
              "      <th>std</th>\n",
              "      <td>64.253253</td>\n",
              "      <td>66.026106</td>\n",
              "      <td>62.060897</td>\n",
              "      <td>63.869623</td>\n",
              "      <td>63.869623</td>\n",
              "      <td>5.271088e+08</td>\n",
              "    </tr>\n",
              "    <tr>\n",
              "      <th>min</th>\n",
              "      <td>46.984577</td>\n",
              "      <td>46.984577</td>\n",
              "      <td>46.984577</td>\n",
              "      <td>46.984577</td>\n",
              "      <td>46.984577</td>\n",
              "      <td>0.000000e+00</td>\n",
              "    </tr>\n",
              "    <tr>\n",
              "      <th>25%</th>\n",
              "      <td>50.000000</td>\n",
              "      <td>50.000000</td>\n",
              "      <td>50.000000</td>\n",
              "      <td>50.000000</td>\n",
              "      <td>50.000000</td>\n",
              "      <td>2.792235e+07</td>\n",
              "    </tr>\n",
              "    <tr>\n",
              "      <th>50%</th>\n",
              "      <td>93.000000</td>\n",
              "      <td>95.000000</td>\n",
              "      <td>91.000000</td>\n",
              "      <td>93.000000</td>\n",
              "      <td>93.000000</td>\n",
              "      <td>1.788220e+08</td>\n",
              "    </tr>\n",
              "    <tr>\n",
              "      <th>75%</th>\n",
              "      <td>170.000000</td>\n",
              "      <td>174.000000</td>\n",
              "      <td>166.000000</td>\n",
              "      <td>170.000000</td>\n",
              "      <td>170.000000</td>\n",
              "      <td>4.168459e+08</td>\n",
              "    </tr>\n",
              "    <tr>\n",
              "      <th>max</th>\n",
              "      <td>300.000000</td>\n",
              "      <td>304.000000</td>\n",
              "      <td>280.000000</td>\n",
              "      <td>294.000000</td>\n",
              "      <td>294.000000</td>\n",
              "      <td>5.488746e+09</td>\n",
              "    </tr>\n",
              "  </tbody>\n",
              "</table>\n",
              "</div>"
            ],
            "text/plain": [
              "              Open         High          Low        Close    Adj Close  \\\n",
              "count  1211.000000  1211.000000  1211.000000  1211.000000  1211.000000   \n",
              "mean    110.997287   113.727905   108.338377   110.666886   110.666886   \n",
              "std      64.253253    66.026106    62.060897    63.869623    63.869623   \n",
              "min      46.984577    46.984577    46.984577    46.984577    46.984577   \n",
              "25%      50.000000    50.000000    50.000000    50.000000    50.000000   \n",
              "50%      93.000000    95.000000    91.000000    93.000000    93.000000   \n",
              "75%     170.000000   174.000000   166.000000   170.000000   170.000000   \n",
              "max     300.000000   304.000000   280.000000   294.000000   294.000000   \n",
              "\n",
              "             Volume  \n",
              "count  1.211000e+03  \n",
              "mean   3.370007e+08  \n",
              "std    5.271088e+08  \n",
              "min    0.000000e+00  \n",
              "25%    2.792235e+07  \n",
              "50%    1.788220e+08  \n",
              "75%    4.168459e+08  \n",
              "max    5.488746e+09  "
            ]
          },
          "execution_count": 103,
          "metadata": {},
          "output_type": "execute_result"
        }
      ],
      "source": [
        "data.describe()"
      ]
    },
    {
      "cell_type": "code",
      "execution_count": null,
      "id": "3655e64f",
      "metadata": {
        "id": "3655e64f",
        "outputId": "d41c49e9-8869-4a3e-f5ba-28f102b4a80e"
      },
      "outputs": [
        {
          "name": "stdout",
          "output_type": "stream",
          "text": [
            "Do you have a null column? \n",
            " Date         0\n",
            "Open         1\n",
            "High         1\n",
            "Low          1\n",
            "Close        1\n",
            "Adj Close    1\n",
            "Volume       1\n",
            "dtype: int64\n",
            "Nilai yang null:\n",
            "            Date  Open  High  Low  Close  Adj Close  Volume\n",
            "121  2019-06-19   NaN   NaN  NaN    NaN        NaN     NaN\n"
          ]
        }
      ],
      "source": [
        "print(\"Do you have a null column? \\n\", data.isna().sum())\n",
        "# Menampilkan nilai yang null\n",
        "print(\"Nilai yang null:\\n\", data[data.isnull().any(axis=1)])"
      ]
    },
    {
      "cell_type": "code",
      "execution_count": null,
      "id": "78081cfd",
      "metadata": {
        "id": "78081cfd"
      },
      "outputs": [],
      "source": [
        "# Menghapus baris yang mengandung nilai null\n",
        "data = data.dropna()"
      ]
    },
    {
      "cell_type": "code",
      "execution_count": null,
      "id": "ad773e96",
      "metadata": {
        "id": "ad773e96",
        "outputId": "3ce24e57-3973-4c39-adcb-9294da9db243"
      },
      "outputs": [
        {
          "name": "stdout",
          "output_type": "stream",
          "text": [
            "Do you have a null column? \n",
            " Date         0\n",
            "Open         0\n",
            "High         0\n",
            "Low          0\n",
            "Close        0\n",
            "Adj Close    0\n",
            "Volume       0\n",
            "dtype: int64\n"
          ]
        }
      ],
      "source": [
        "print(\"Do you have a null column? \\n\", data.isna().sum())\n",
        "# Menampilkan nilai yang null"
      ]
    },
    {
      "cell_type": "code",
      "execution_count": null,
      "id": "12e6b210",
      "metadata": {
        "id": "12e6b210"
      },
      "outputs": [],
      "source": [
        "#Split data\n",
        "training_size = int(len(data)*0.80)\n",
        "data_len = len(data)\n",
        "\n",
        "train, test = data[0:training_size],data[training_size:data_len]"
      ]
    },
    {
      "cell_type": "code",
      "execution_count": null,
      "id": "80a17ab1",
      "metadata": {
        "id": "80a17ab1",
        "outputId": "e29134be-2b8a-4a38-9878-f9955740f1d5"
      },
      "outputs": [
        {
          "name": "stdout",
          "output_type": "stream",
          "text": [
            "Training Size -->  968\n",
            "total length of data -->  1211\n",
            "Train length -->  968\n",
            "Test length -->  243\n"
          ]
        }
      ],
      "source": [
        "print(\"Training Size --> \", training_size)\n",
        "print(\"total length of data --> \", data_len)\n",
        "print(\"Train length --> \", len(train))\n",
        "print(\"Test length --> \", len(test))"
      ]
    },
    {
      "cell_type": "code",
      "execution_count": null,
      "id": "74a0bf86",
      "metadata": {
        "id": "74a0bf86"
      },
      "outputs": [],
      "source": [
        "# Bagian data yang akan kita gunakan sebagai pelatihan\n",
        "train = train.loc[:, [\"Open\"]].values\n",
        "\n",
        "from sklearn.preprocessing import MinMaxScaler\n",
        "scaler = MinMaxScaler(feature_range=(0, 1))\n",
        "train_scaled = scaler.fit_transform(train)"
      ]
    },
    {
      "cell_type": "code",
      "execution_count": null,
      "id": "c6b8690d",
      "metadata": {
        "id": "c6b8690d"
      },
      "outputs": [],
      "source": [
        "end_len = len(train_scaled)\n",
        "X_train = []\n",
        "y_train = []\n",
        "timesteps = 40\n",
        "\n",
        "for i in range(timesteps, end_len):\n",
        "    X_train.append(train_scaled[i - timesteps:i, 0])\n",
        "    y_train.append(train_scaled[i, 0])\n",
        "X_train, y_train = np.array(X_train), np.array(y_train)"
      ]
    },
    {
      "cell_type": "code",
      "execution_count": null,
      "id": "b938a463",
      "metadata": {
        "id": "b938a463",
        "outputId": "ac65810c-4e25-41d1-9580-1d8736ab54f2"
      },
      "outputs": [
        {
          "name": "stdout",
          "output_type": "stream",
          "text": [
            "X_train -->  (928, 40, 1)\n",
            "y_train shape -->  (928,)\n"
          ]
        }
      ],
      "source": [
        "X_train = np.reshape(X_train, (X_train.shape[0], X_train.shape[1], 1))\n",
        "print(\"X_train --> \", X_train.shape)\n",
        "print(\"y_train shape --> \", y_train.shape)"
      ]
    },
    {
      "cell_type": "code",
      "execution_count": null,
      "id": "2ab41364",
      "metadata": {
        "id": "2ab41364"
      },
      "outputs": [],
      "source": [
        "from keras.models import Sequential\n",
        "from keras.layers import Dense\n",
        "from keras.layers import SimpleRNN\n",
        "from keras.layers import Dropout"
      ]
    },
    {
      "cell_type": "code",
      "execution_count": null,
      "id": "60c5ca3c",
      "metadata": {
        "id": "60c5ca3c"
      },
      "outputs": [],
      "source": [
        "regressor = Sequential()\n",
        "\n",
        "regressor.add(SimpleRNN(units = 50, activation = \"tanh\", return_sequences = True, input_shape = (X_train.shape[1],1)))\n",
        "regressor.add(Dropout(0.2))\n",
        "\n",
        "regressor.add(SimpleRNN(units = 50, activation = \"tanh\", return_sequences = True))\n",
        "regressor.add(Dropout(0.2))\n",
        "\n",
        "regressor.add(SimpleRNN(units = 50, activation = \"tanh\", return_sequences = True))\n",
        "regressor.add(Dropout(0.2))\n",
        "\n",
        "regressor.add(SimpleRNN(units = 50))\n",
        "regressor.add(Dropout(0.2))\n",
        "\n",
        "regressor.add(Dense(units = 1))"
      ]
    },
    {
      "cell_type": "code",
      "execution_count": null,
      "id": "0e3b23e3",
      "metadata": {
        "id": "0e3b23e3"
      },
      "outputs": [],
      "source": [
        "regressor.compile(optimizer= \"adam\", loss = \"mean_squared_error\")"
      ]
    },
    {
      "cell_type": "code",
      "execution_count": null,
      "id": "a715f56a",
      "metadata": {
        "id": "a715f56a"
      },
      "outputs": [],
      "source": [
        "epochs = 100\n",
        "batch_size = 20"
      ]
    },
    {
      "cell_type": "code",
      "execution_count": null,
      "id": "36a65188",
      "metadata": {
        "id": "36a65188",
        "outputId": "181dc0d2-2e45-46c6-bd53-c316c1ceb843"
      },
      "outputs": [
        {
          "name": "stdout",
          "output_type": "stream",
          "text": [
            "Epoch 1/100\n",
            "47/47 [==============================] - 3s 12ms/step - loss: 0.3274\n",
            "Epoch 2/100\n",
            "47/47 [==============================] - 1s 13ms/step - loss: 0.2025\n",
            "Epoch 3/100\n",
            "47/47 [==============================] - 1s 12ms/step - loss: 0.1087\n",
            "Epoch 4/100\n",
            "47/47 [==============================] - 1s 13ms/step - loss: 0.0908\n",
            "Epoch 5/100\n",
            "47/47 [==============================] - 1s 12ms/step - loss: 0.0647\n",
            "Epoch 6/100\n",
            "47/47 [==============================] - 1s 12ms/step - loss: 0.0506\n",
            "Epoch 7/100\n",
            "47/47 [==============================] - 1s 12ms/step - loss: 0.0383\n",
            "Epoch 8/100\n",
            "47/47 [==============================] - 1s 12ms/step - loss: 0.0303\n",
            "Epoch 9/100\n",
            "47/47 [==============================] - 1s 12ms/step - loss: 0.0206\n",
            "Epoch 10/100\n",
            "47/47 [==============================] - 1s 12ms/step - loss: 0.0210\n",
            "Epoch 11/100\n",
            "47/47 [==============================] - 1s 12ms/step - loss: 0.0198\n",
            "Epoch 12/100\n",
            "47/47 [==============================] - 1s 12ms/step - loss: 0.0198\n",
            "Epoch 13/100\n",
            "47/47 [==============================] - 1s 12ms/step - loss: 0.0157\n",
            "Epoch 14/100\n",
            "47/47 [==============================] - 1s 12ms/step - loss: 0.0146\n",
            "Epoch 15/100\n",
            "47/47 [==============================] - 1s 12ms/step - loss: 0.0143\n",
            "Epoch 16/100\n",
            "47/47 [==============================] - 1s 12ms/step - loss: 0.0130\n",
            "Epoch 17/100\n",
            "47/47 [==============================] - 1s 12ms/step - loss: 0.0118\n",
            "Epoch 18/100\n",
            "47/47 [==============================] - 1s 12ms/step - loss: 0.0104\n",
            "Epoch 19/100\n",
            "47/47 [==============================] - 1s 12ms/step - loss: 0.0102\n",
            "Epoch 20/100\n",
            "47/47 [==============================] - 1s 12ms/step - loss: 0.0091\n",
            "Epoch 21/100\n",
            "47/47 [==============================] - 1s 12ms/step - loss: 0.0097\n",
            "Epoch 22/100\n",
            "47/47 [==============================] - 1s 12ms/step - loss: 0.0083\n",
            "Epoch 23/100\n",
            "47/47 [==============================] - 1s 12ms/step - loss: 0.0069\n",
            "Epoch 24/100\n",
            "47/47 [==============================] - 1s 12ms/step - loss: 0.0076\n",
            "Epoch 25/100\n",
            "47/47 [==============================] - 1s 12ms/step - loss: 0.0078\n",
            "Epoch 26/100\n",
            "47/47 [==============================] - 1s 12ms/step - loss: 0.0067\n",
            "Epoch 27/100\n",
            "47/47 [==============================] - 1s 12ms/step - loss: 0.0064\n",
            "Epoch 28/100\n",
            "47/47 [==============================] - 1s 12ms/step - loss: 0.0055\n",
            "Epoch 29/100\n",
            "47/47 [==============================] - 1s 12ms/step - loss: 0.0059\n",
            "Epoch 30/100\n",
            "47/47 [==============================] - 1s 13ms/step - loss: 0.0062\n",
            "Epoch 31/100\n",
            "47/47 [==============================] - 1s 13ms/step - loss: 0.0053\n",
            "Epoch 32/100\n",
            "47/47 [==============================] - 1s 12ms/step - loss: 0.0052\n",
            "Epoch 33/100\n",
            "47/47 [==============================] - 1s 13ms/step - loss: 0.0041\n",
            "Epoch 34/100\n",
            "47/47 [==============================] - 1s 13ms/step - loss: 0.0050\n",
            "Epoch 35/100\n",
            "47/47 [==============================] - 1s 13ms/step - loss: 0.0049\n",
            "Epoch 36/100\n",
            "47/47 [==============================] - 1s 13ms/step - loss: 0.0048\n",
            "Epoch 37/100\n",
            "47/47 [==============================] - 1s 12ms/step - loss: 0.0040\n",
            "Epoch 38/100\n",
            "47/47 [==============================] - 1s 12ms/step - loss: 0.0041\n",
            "Epoch 39/100\n",
            "47/47 [==============================] - 1s 12ms/step - loss: 0.0043\n",
            "Epoch 40/100\n",
            "47/47 [==============================] - 1s 12ms/step - loss: 0.0037\n",
            "Epoch 41/100\n",
            "47/47 [==============================] - 1s 30ms/step - loss: 0.0042\n",
            "Epoch 42/100\n",
            "47/47 [==============================] - 1s 12ms/step - loss: 0.0034\n",
            "Epoch 43/100\n",
            "47/47 [==============================] - 1s 13ms/step - loss: 0.0036\n",
            "Epoch 44/100\n",
            "47/47 [==============================] - 1s 12ms/step - loss: 0.0038\n",
            "Epoch 45/100\n",
            "47/47 [==============================] - 1s 12ms/step - loss: 0.0030\n",
            "Epoch 46/100\n",
            "47/47 [==============================] - 1s 12ms/step - loss: 0.0030\n",
            "Epoch 47/100\n",
            "47/47 [==============================] - 1s 12ms/step - loss: 0.0033\n",
            "Epoch 48/100\n",
            "47/47 [==============================] - 1s 12ms/step - loss: 0.0032\n",
            "Epoch 49/100\n",
            "47/47 [==============================] - 1s 12ms/step - loss: 0.0033\n",
            "Epoch 50/100\n",
            "47/47 [==============================] - 1s 12ms/step - loss: 0.0036\n",
            "Epoch 51/100\n",
            "47/47 [==============================] - 1s 12ms/step - loss: 0.0029\n",
            "Epoch 52/100\n",
            "47/47 [==============================] - 1s 12ms/step - loss: 0.0031\n",
            "Epoch 53/100\n",
            "47/47 [==============================] - 1s 12ms/step - loss: 0.0031\n",
            "Epoch 54/100\n",
            "47/47 [==============================] - 1s 12ms/step - loss: 0.0032\n",
            "Epoch 55/100\n",
            "47/47 [==============================] - 1s 13ms/step - loss: 0.0026\n",
            "Epoch 56/100\n",
            "47/47 [==============================] - 1s 14ms/step - loss: 0.0025\n",
            "Epoch 57/100\n",
            "47/47 [==============================] - 1s 14ms/step - loss: 0.0027\n",
            "Epoch 58/100\n",
            "47/47 [==============================] - 1s 14ms/step - loss: 0.0023\n",
            "Epoch 59/100\n",
            "47/47 [==============================] - 1s 14ms/step - loss: 0.0022\n",
            "Epoch 60/100\n",
            "47/47 [==============================] - 1s 13ms/step - loss: 0.0028\n",
            "Epoch 61/100\n",
            "47/47 [==============================] - 1s 12ms/step - loss: 0.0027\n",
            "Epoch 62/100\n",
            "47/47 [==============================] - 1s 13ms/step - loss: 0.0019\n",
            "Epoch 63/100\n",
            "47/47 [==============================] - 1s 12ms/step - loss: 0.0021\n",
            "Epoch 64/100\n",
            "47/47 [==============================] - 1s 12ms/step - loss: 0.0023\n",
            "Epoch 65/100\n",
            "47/47 [==============================] - 1s 12ms/step - loss: 0.0023\n",
            "Epoch 66/100\n",
            "47/47 [==============================] - 1s 12ms/step - loss: 0.0025\n",
            "Epoch 67/100\n",
            "47/47 [==============================] - 1s 12ms/step - loss: 0.0022\n",
            "Epoch 68/100\n",
            "47/47 [==============================] - 1s 12ms/step - loss: 0.0021\n",
            "Epoch 69/100\n",
            "47/47 [==============================] - 1s 12ms/step - loss: 0.0021\n",
            "Epoch 70/100\n",
            "47/47 [==============================] - 1s 12ms/step - loss: 0.0023\n",
            "Epoch 71/100\n",
            "47/47 [==============================] - 1s 12ms/step - loss: 0.0020\n",
            "Epoch 72/100\n",
            "47/47 [==============================] - 1s 12ms/step - loss: 0.0021\n",
            "Epoch 73/100\n",
            "47/47 [==============================] - 1s 12ms/step - loss: 0.0026\n",
            "Epoch 74/100\n",
            "47/47 [==============================] - 1s 12ms/step - loss: 0.0021\n",
            "Epoch 75/100\n",
            "47/47 [==============================] - 1s 12ms/step - loss: 0.0021\n",
            "Epoch 76/100\n",
            "47/47 [==============================] - 1s 12ms/step - loss: 0.0022\n",
            "Epoch 77/100\n",
            "47/47 [==============================] - 1s 12ms/step - loss: 0.0019\n",
            "Epoch 78/100\n",
            "47/47 [==============================] - 1s 12ms/step - loss: 0.0021\n",
            "Epoch 79/100\n",
            "47/47 [==============================] - 1s 12ms/step - loss: 0.0022\n",
            "Epoch 80/100\n",
            "47/47 [==============================] - 1s 12ms/step - loss: 0.0018\n",
            "Epoch 81/100\n",
            "47/47 [==============================] - 1s 13ms/step - loss: 0.0023\n",
            "Epoch 82/100\n",
            "47/47 [==============================] - 1s 13ms/step - loss: 0.0018\n",
            "Epoch 83/100\n",
            "47/47 [==============================] - 1s 13ms/step - loss: 0.0019\n",
            "Epoch 84/100\n",
            "47/47 [==============================] - 1s 14ms/step - loss: 0.0019\n",
            "Epoch 85/100\n",
            "47/47 [==============================] - 1s 14ms/step - loss: 0.0016\n",
            "Epoch 86/100\n",
            "47/47 [==============================] - 1s 14ms/step - loss: 0.0020\n",
            "Epoch 87/100\n",
            "47/47 [==============================] - 1s 14ms/step - loss: 0.0020\n",
            "Epoch 88/100\n",
            "47/47 [==============================] - 1s 13ms/step - loss: 0.0017\n",
            "Epoch 89/100\n",
            "47/47 [==============================] - 1s 13ms/step - loss: 0.0017\n",
            "Epoch 90/100\n",
            "47/47 [==============================] - 1s 12ms/step - loss: 0.0017\n",
            "Epoch 91/100\n",
            "47/47 [==============================] - 1s 12ms/step - loss: 0.0017\n",
            "Epoch 92/100\n",
            "47/47 [==============================] - 1s 12ms/step - loss: 0.0020\n",
            "Epoch 93/100\n",
            "47/47 [==============================] - 1s 12ms/step - loss: 0.0017\n",
            "Epoch 94/100\n",
            "47/47 [==============================] - 1s 12ms/step - loss: 0.0015\n",
            "Epoch 95/100\n",
            "47/47 [==============================] - 1s 12ms/step - loss: 0.0020\n",
            "Epoch 96/100\n",
            "47/47 [==============================] - 1s 12ms/step - loss: 0.0014\n",
            "Epoch 97/100\n",
            "47/47 [==============================] - 1s 12ms/step - loss: 0.0020\n",
            "Epoch 98/100\n",
            "47/47 [==============================] - 1s 12ms/step - loss: 0.0021\n",
            "Epoch 99/100\n",
            "47/47 [==============================] - 1s 12ms/step - loss: 0.0018\n",
            "Epoch 100/100\n",
            "47/47 [==============================] - 1s 12ms/step - loss: 0.0015\n"
          ]
        },
        {
          "data": {
            "text/plain": [
              "<keras.src.callbacks.History at 0x2067b69e860>"
            ]
          },
          "execution_count": 116,
          "metadata": {},
          "output_type": "execute_result"
        }
      ],
      "source": [
        "regressor.fit(X_train, y_train, epochs = epochs, batch_size = batch_size)"
      ]
    },
    {
      "cell_type": "code",
      "execution_count": null,
      "id": "23e6bea6",
      "metadata": {
        "id": "23e6bea6",
        "outputId": "6453beb2-9bd1-40c3-a22c-4b757b985418"
      },
      "outputs": [
        {
          "data": {
            "text/html": [
              "<div>\n",
              "<style scoped>\n",
              "    .dataframe tbody tr th:only-of-type {\n",
              "        vertical-align: middle;\n",
              "    }\n",
              "\n",
              "    .dataframe tbody tr th {\n",
              "        vertical-align: top;\n",
              "    }\n",
              "\n",
              "    .dataframe thead th {\n",
              "        text-align: right;\n",
              "    }\n",
              "</style>\n",
              "<table border=\"1\" class=\"dataframe\">\n",
              "  <thead>\n",
              "    <tr style=\"text-align: right;\">\n",
              "      <th></th>\n",
              "      <th>Date</th>\n",
              "      <th>Open</th>\n",
              "      <th>High</th>\n",
              "      <th>Low</th>\n",
              "      <th>Close</th>\n",
              "      <th>Adj Close</th>\n",
              "      <th>Volume</th>\n",
              "    </tr>\n",
              "  </thead>\n",
              "  <tbody>\n",
              "    <tr>\n",
              "      <th>969</th>\n",
              "      <td>2022-11-29</td>\n",
              "      <td>176.0</td>\n",
              "      <td>181.0</td>\n",
              "      <td>175.0</td>\n",
              "      <td>179.0</td>\n",
              "      <td>179.0</td>\n",
              "      <td>143211600.0</td>\n",
              "    </tr>\n",
              "    <tr>\n",
              "      <th>970</th>\n",
              "      <td>2022-11-30</td>\n",
              "      <td>179.0</td>\n",
              "      <td>183.0</td>\n",
              "      <td>178.0</td>\n",
              "      <td>183.0</td>\n",
              "      <td>183.0</td>\n",
              "      <td>161544600.0</td>\n",
              "    </tr>\n",
              "    <tr>\n",
              "      <th>971</th>\n",
              "      <td>2022-12-01</td>\n",
              "      <td>183.0</td>\n",
              "      <td>187.0</td>\n",
              "      <td>182.0</td>\n",
              "      <td>185.0</td>\n",
              "      <td>185.0</td>\n",
              "      <td>182282900.0</td>\n",
              "    </tr>\n",
              "    <tr>\n",
              "      <th>972</th>\n",
              "      <td>2022-12-02</td>\n",
              "      <td>185.0</td>\n",
              "      <td>192.0</td>\n",
              "      <td>184.0</td>\n",
              "      <td>184.0</td>\n",
              "      <td>184.0</td>\n",
              "      <td>400670200.0</td>\n",
              "    </tr>\n",
              "    <tr>\n",
              "      <th>973</th>\n",
              "      <td>2022-12-05</td>\n",
              "      <td>186.0</td>\n",
              "      <td>186.0</td>\n",
              "      <td>177.0</td>\n",
              "      <td>178.0</td>\n",
              "      <td>178.0</td>\n",
              "      <td>172239800.0</td>\n",
              "    </tr>\n",
              "  </tbody>\n",
              "</table>\n",
              "</div>"
            ],
            "text/plain": [
              "           Date   Open   High    Low  Close  Adj Close       Volume\n",
              "969  2022-11-29  176.0  181.0  175.0  179.0      179.0  143211600.0\n",
              "970  2022-11-30  179.0  183.0  178.0  183.0      183.0  161544600.0\n",
              "971  2022-12-01  183.0  187.0  182.0  185.0      185.0  182282900.0\n",
              "972  2022-12-02  185.0  192.0  184.0  184.0      184.0  400670200.0\n",
              "973  2022-12-05  186.0  186.0  177.0  178.0      178.0  172239800.0"
            ]
          },
          "execution_count": 117,
          "metadata": {},
          "output_type": "execute_result"
        }
      ],
      "source": [
        "test.head()"
      ]
    },
    {
      "cell_type": "code",
      "execution_count": null,
      "id": "a7d34a2f",
      "metadata": {
        "id": "a7d34a2f",
        "outputId": "b81a7bb8-c8a5-4803-fefa-5329fd4ff4ef"
      },
      "outputs": [
        {
          "name": "stdout",
          "output_type": "stream",
          "text": [
            "Real Price Shape -->  (243, 1)\n"
          ]
        }
      ],
      "source": [
        "real_price = test.loc[:, [\"Open\"]].values\n",
        "print(\"Real Price Shape --> \", real_price.shape)"
      ]
    },
    {
      "cell_type": "code",
      "execution_count": null,
      "id": "0d575132",
      "metadata": {
        "id": "0d575132"
      },
      "outputs": [],
      "source": [
        "dataset_total = pd.concat((data[[\"Open\"]], test[[\"Open\"]]), axis=0)\n",
        "inputs = dataset_total[len(dataset_total) - len(test) - timesteps:].values.reshape(-1, 1)\n",
        "inputs = scaler.transform(inputs)\n"
      ]
    },
    {
      "cell_type": "code",
      "execution_count": null,
      "id": "45b8f351",
      "metadata": {
        "id": "45b8f351",
        "outputId": "576bba41-87ac-42e8-910e-c919c3df7529"
      },
      "outputs": [
        {
          "name": "stdout",
          "output_type": "stream",
          "text": [
            "X_test shape -->  (243, 40)\n"
          ]
        }
      ],
      "source": [
        "X_test = []\n",
        "\n",
        "for i in range(timesteps, 283):\n",
        "    X_test.append(inputs[i-timesteps:i, 0])\n",
        "X_test = np.array(X_test)\n",
        "\n",
        "print(\"X_test shape --> \", X_test.shape)"
      ]
    },
    {
      "cell_type": "code",
      "execution_count": null,
      "id": "cf1a5fa2",
      "metadata": {
        "id": "cf1a5fa2",
        "outputId": "3f66695c-57ff-482c-98c5-8ed0af454677"
      },
      "outputs": [
        {
          "name": "stdout",
          "output_type": "stream",
          "text": [
            "8/8 [==============================] - 0s 4ms/step\n"
          ]
        }
      ],
      "source": [
        "X_test = np.reshape(X_test, (X_test.shape[0], X_test.shape[1], 1))\n",
        "predict = regressor.predict(X_test)\n",
        "predict = predict.reshape(-1, 1)  # Reshape to match the number of features\n",
        "predict = scaler.inverse_transform(predict)"
      ]
    },
    {
      "cell_type": "code",
      "execution_count": null,
      "id": "4137e607",
      "metadata": {
        "id": "4137e607",
        "outputId": "77ba4baf-37aa-4f25-db08-ecdf9265704d"
      },
      "outputs": [
        {
          "data": {
            "image/png": "[encoded data removed]",
            "text/plain": [
              "<Figure size 640x480 with 1 Axes>"
            ]
          },
          "metadata": {},
          "output_type": "display_data"
        }
      ],
      "source": [
        "plt.plot(real_price, color = \"red\", label = \"Real Stock Price\")\n",
        "plt.plot(predict, color = \"black\", label = \"Predict Stock Price\")\n",
        "plt.title(\"Stock Price Prediction\")\n",
        "plt.xlabel(\"Time\")\n",
        "plt.ylabel(\"BRMS Stock Price\")\n",
        "plt.legend()\n",
        "plt.show()"
      ]
    },
    {
      "cell_type": "code",
      "execution_count": null,
      "id": "36a7d612",
      "metadata": {
        "id": "36a7d612"
      },
      "outputs": [],
      "source": []
    }
  ],
  "metadata": {
    "kernelspec": {
      "display_name": "Python 3 (ipykernel)",
      "language": "python",
      "name": "python3"
    },
    "language_info": {
      "codemirror_mode": {
        "name": "ipython",
        "version": 3
      },
      "file_extension": ".py",
      "mimetype": "text/x-python",
      "name": "python",
      "nbconvert_exporter": "python",
      "pygments_lexer": "ipython3",
      "version": "3.10.9"
    },
    "colab": {
      "provenance": []
    }
  },
  "nbformat": 4,
  "nbformat_minor": 5
}